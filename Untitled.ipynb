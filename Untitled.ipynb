{
 "cells": [
  {
   "cell_type": "code",
   "execution_count": 1,
   "metadata": {},
   "outputs": [],
   "source": [
    "import matplotlib.pyplot as plt\n",
    "import numpy as np\n",
    "import pandas as pd"
   ]
  },
  {
   "cell_type": "code",
   "execution_count": 2,
   "metadata": {},
   "outputs": [],
   "source": [
    "df = pd.read_csv('ex2data1.txt',header=None)\n",
    "df.columns = ['f1','f2','l']\n",
    "f1 = np.array(df.iloc[:,0])\n",
    "f2 = np.array(df.iloc[:,1])\n",
    "l = np.array(df.iloc[:,2])"
   ]
  },
  {
   "cell_type": "code",
   "execution_count": 3,
   "metadata": {},
   "outputs": [],
   "source": [
    "f1.shape = [df.shape[0],1]\n",
    "f2.shape = [df.shape[0],1]\n",
    "l.shape = [df.shape[0],1]"
   ]
  },
  {
   "cell_type": "code",
   "execution_count": 4,
   "metadata": {},
   "outputs": [
    {
     "data": {
      "image/png": "[encoded data removed]",
      "text/plain": [
       "<Figure size 432x288 with 1 Axes>"
      ]
     },
     "metadata": {
      "needs_background": "light"
     },
     "output_type": "display_data"
    }
   ],
   "source": [
    "zero_pts = df.iloc[:,:2][df['l']==0].values\n",
    "one_pts  = df.iloc[:,:2][df['l']==1].values\n",
    "plt.scatter(zero_pts[:,0],zero_pts[:,1])\n",
    "plt.scatter(one_pts[:,0],one_pts[:,1])\n",
    "plt.show()"
   ]
  },
  {
   "cell_type": "code",
   "execution_count": 5,
   "metadata": {
    "scrolled": true
   },
   "outputs": [
    {
     "data": {
      "text/plain": [
       "array([[0.],\n",
       "       [0.],\n",
       "       [0.]])"
      ]
     },
     "execution_count": 5,
     "metadata": {},
     "output_type": "execute_result"
    }
   ],
   "source": [
    "theta = np.zeros((3,1))\n",
    "theta"
   ]
  },
  {
   "cell_type": "code",
   "execution_count": 6,
   "metadata": {
    "scrolled": true
   },
   "outputs": [
    {
     "data": {
      "text/plain": [
       "(100, 3)"
      ]
     },
     "execution_count": 6,
     "metadata": {},
     "output_type": "execute_result"
    }
   ],
   "source": [
    "data = np.concatenate((f1,f2,np.ones((df.shape[0],1))),axis = 1)\n",
    "data.shape"
   ]
  },
  {
   "cell_type": "code",
   "execution_count": 7,
   "metadata": {},
   "outputs": [],
   "source": [
    "def predict(data,theta):\n",
    "    return np.dot(data,theta)"
   ]
  },
  {
   "cell_type": "code",
   "execution_count": 8,
   "metadata": {},
   "outputs": [],
   "source": [
    "def my_sigmoid(z):\n",
    "    return 1/(1+np.exp(-z))"
   ]
  },
  {
   "cell_type": "code",
   "execution_count": 9,
   "metadata": {},
   "outputs": [],
   "source": [
    "def cost_func(prediction,label,m):\n",
    "    return (-1/m) * np.sum(label * np.log(my_sigmoid(prediction)) + (1-label) * np.log(1 - my_sigmoid(prediction)))  "
   ]
  },
  {
   "cell_type": "code",
   "execution_count": 10,
   "metadata": {},
   "outputs": [
    {
     "name": "stdout",
     "output_type": "stream",
     "text": [
      "0.6931471805599453\n"
     ]
    }
   ],
   "source": [
    "# Cost at zero theta\n",
    "\n",
    "print(cost_func(predict(data,theta),l,df.shape[0]))"
   ]
  },
  {
   "cell_type": "code",
   "execution_count": 11,
   "metadata": {},
   "outputs": [],
   "source": [
    "def grad_desc(data, theta, prediction, label, m, alpha):\n",
    "    theta  = np.reshape(theta,(3,)) - (alpha/m) * np.sum((my_sigmoid(prediction)-label) * data, axis = 0)\n",
    "    return np.reshape(theta,(3,1))"
   ]
  },
  {
   "cell_type": "code",
   "execution_count": 12,
   "metadata": {},
   "outputs": [
    {
     "data": {
      "text/plain": [
       "array([[-2.  ],\n",
       "       [-3.5 ],\n",
       "       [ 0.77]])"
      ]
     },
     "execution_count": 12,
     "metadata": {},
     "output_type": "execute_result"
    }
   ],
   "source": [
    "t = np.reshape(theta,(3,))\n",
    "k = t - [2,3.5,-0.77]\n",
    "np.reshape(k,(3,1))"
   ]
  },
  {
   "cell_type": "code",
   "execution_count": 30,
   "metadata": {},
   "outputs": [
    {
     "name": "stdout",
     "output_type": "stream",
     "text": [
      "0.2063926606335973\n"
     ]
    }
   ],
   "source": [
    "theta = np.zeros((3,1))\n",
    "alpha = 0.001\n",
    "m = df.shape[0]\n",
    "cost_list = []\n",
    "i=0\n",
    "while(i < 3000000):\n",
    "    prediction = predict(data, theta)\n",
    "    cost = cost_func(prediction, l, m)\n",
    "    theta = grad_desc(data, theta, prediction, l, m, alpha)\n",
    "    i = i + 1\n",
    "\n",
    "print(cost)   "
   ]
  },
  {
   "cell_type": "code",
   "execution_count": 31,
   "metadata": {
    "scrolled": true
   },
   "outputs": [
    {
     "data": {
      "text/plain": [
       "array([[  0.17350979],\n",
       "       [  0.16833432],\n",
       "       [-21.06746245]])"
      ]
     },
     "execution_count": 31,
     "metadata": {},
     "output_type": "execute_result"
    }
   ],
   "source": [
    "theta"
   ]
  },
  {
   "cell_type": "code",
   "execution_count": null,
   "metadata": {},
   "outputs": [],
   "source": []
  }
 ],
 "metadata": {
  "kernelspec": {
   "display_name": "Python 3",
   "language": "python",
   "name": "python3"
  },
  "language_info": {
   "codemirror_mode": {
    "name": "ipython",
    "version": 3
   },
   "file_extension": ".py",
   "mimetype": "text/x-python",
   "name": "python",
   "nbconvert_exporter": "python",
   "pygments_lexer": "ipython3",
   "version": "3.8.5"
  }
 },
 "nbformat": 4,
 "nbformat_minor": 4
}
